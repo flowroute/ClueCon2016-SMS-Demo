{
 "cells": [
  {
   "cell_type": "code",
   "execution_count": null,
   "metadata": {
    "collapsed": true
   },
   "outputs": [],
   "source": [
    "import json\n",
    "from pprint import pprint\n",
    "\n",
    "import requests\n",
    "from requests.packages.urllib3.exceptions import InsecureRequestWarning\n",
    "requests.packages.urllib3.disable_warnings(InsecureRequestWarning)\n",
    "\n",
    "service_load_balancer = 'http://localhost:8000'\n",
    "my_tns = ['my_did']"
   ]
  },
  {
   "cell_type": "markdown",
   "metadata": {},
   "source": [
    "*Clear all sessions and virtual numbers first*"
   ]
  },
  {
   "cell_type": "code",
   "execution_count": null,
   "metadata": {
    "collapsed": false
   },
   "outputs": [],
   "source": [
    "sessions = requests.get((service_load_balancer + '/session'), verify=False)\n",
    "pprint(sessions.text)\n",
    "for session in sessions.json()['sessions']:\n",
    "    requests.delete((service_load_balancer + '/session'),\n",
    "                    json={'session_id': session['id']}, verify=False)\n",
    "sessions = requests.get((service_load_balancer + '/session'), verify=False)\n",
    "pprint(sessions)"
   ]
  },
  {
   "cell_type": "code",
   "execution_count": null,
   "metadata": {
    "collapsed": false
   },
   "outputs": [],
   "source": [
    "virtual_number_pool = requests.get((service_load_balancer + '/tn'),\n",
    "                                  verify=False).json()\n",
    "for tn in virtual_number_pool['virtual_tns']:\n",
    "    resp = requests.delete((service_load_balancer + '/tn'), json={'value': tn['value']},\n",
    "                    verify=False)\n",
    "    pprint(resp.text)"
   ]
  },
  {
   "cell_type": "code",
   "execution_count": null,
   "metadata": {
    "collapsed": false
   },
   "outputs": [],
   "source": [
    "for tn in my_tns:\n",
    "    tn_post_resp = requests.post((service_load_balancer + '/tn'),\n",
    "                                 json={'value': tn}, verify=False)\n",
    "    pprint(tn_post_resp.text)"
   ]
  },
  {
   "cell_type": "code",
   "execution_count": null,
   "metadata": {
    "collapsed": false
   },
   "outputs": [],
   "source": [
    "my_cell = 'recipient_num'\n",
    "new_user = '' # Fill me in... Any takers??\n",
    "sessions= {'session_1': (my_cell, new_user),\n",
    "# 'session_2': ('', ''),\n",
    "# 'session_3': ('', ''),\n",
    " }\n",
    "session_ids = []\n",
    "for participant_a, participant_b in sessions.values():\n",
    "    new_session_resp = requests.post((service_load_balancer + '/session'),\n",
    "                                     json={'participant_a': participant_a,\n",
    "                                      'participant_b': participant_b,\n",
    "                                      'expiry_window': 30},\n",
    "                                verify=False)\n",
    "    session_ids.append(new_session_resp.json()['session_id'])\n",
    "\n",
    "pprint (new_session_resp.json())\n",
    "session_id = new_session_resp.json()['session_id']\n",
    "print new_session_resp.text"
   ]
  },
  {
   "cell_type": "code",
   "execution_count": null,
   "metadata": {
    "collapsed": false
   },
   "outputs": [],
   "source": [
    "for session_id in session_ids:\n",
    "    delete_session_resp = requests.delete((service_load_balancer + '/session'),\n",
    "                                      json={'session_id': session_id}, verify=False)\n",
    "print delete_session_resp.text"
   ]
  },
  {
   "cell_type": "code",
   "execution_count": null,
   "metadata": {
    "collapsed": true
   },
   "outputs": [],
   "source": []
  }
 ],
 "metadata": {
  "kernelspec": {
   "display_name": "Python 2",
   "language": "python",
   "name": "python2"
  },
  "language_info": {
   "codemirror_mode": {
    "name": "ipython",
    "version": 2
   },
   "file_extension": ".py",
   "mimetype": "text/x-python",
   "name": "python",
   "nbconvert_exporter": "python",
   "pygments_lexer": "ipython2",
   "version": "2.7.10"
  }
 },
 "nbformat": 4,
 "nbformat_minor": 0
}
