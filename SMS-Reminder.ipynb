{
 "cells": [
  {
   "cell_type": "code",
   "execution_count": null,
   "metadata": {
    "collapsed": false
   },
   "outputs": [],
   "source": [
    "import json\n",
    "from pprint import pprint\n",
    "\n",
    "import requests\n",
    "from requests.packages.urllib3.exceptions import InsecureRequestWarning\n",
    "requests.packages.urllib3.disable_warnings(InsecureRequestWarning)\n",
    "\n",
    "service_load_balancer = 'http://localhost:8000'"
   ]
  },
  {
   "cell_type": "markdown",
   "metadata": {},
   "source": [
    "*We are going to take the time to clear out any existing reminders*"
   ]
  },
  {
   "cell_type": "code",
   "execution_count": null,
   "metadata": {
    "collapsed": false
   },
   "outputs": [],
   "source": [
    "response = requests.get(service_load_balancer, verify=False).json()\n",
    "pprint(response)\n",
    "for reminder in response['reminders']:\n",
    "    requests.delete((service_load_balancer + '/{}'.format(reminder['reminder_id'])),\n",
    "                    verify=False)\n",
    "response = requests.get(service_load_balancer, verify=False).json()\n",
    "pprint(response)"
   ]
  },
  {
   "cell_type": "code",
   "execution_count": null,
   "metadata": {
    "collapsed": false
   },
   "outputs": [],
   "source": [
    "demo_reminder = {'contact_number': 'my_did_goes_here', # fill me in\n",
    "                 'appointment_time': '2016-08-08T16:30-0500',\n",
    "                 'notify_window': 1,\n",
    "                 'location': 'Lucerne',\n",
    "                 'particpant': 'ClueCon'}\n",
    "demo_post_response = requests.post(service_load_balancer,\n",
    "                         json=demo_reminder, verify=False)\n",
    "demo_reminder_id = demo_post_response.json()['reminder_id']\n",
    "pprint(demo_post_response.text)"
   ]
  },
  {
   "cell_type": "code",
   "execution_count": null,
   "metadata": {
    "collapsed": false
   },
   "outputs": [],
   "source": [
    "demo_get_response = requests.get((service_load_balancer + '/{}'.format(demo_reminder_id)), verify=False)\n",
    "pprint(demo_get_response.json())"
   ]
  },
  {
   "cell_type": "code",
   "execution_count": null,
   "metadata": {
    "collapsed": false
   },
   "outputs": [],
   "source": [
    "resp = requests.delete((service_load_balancer + '/{}'.format(demo_reminder_id)),\n",
    "                verify=False)\n",
    "print(resp.text)\n",
    "pizza_party_reminder = {'contact_number': 'my_did_goes_here', # fill me in\n",
    "                        'appointment_time': '2016-08-08T19:00-0500',\n",
    "                        'notify_window': 3,\n",
    "                        'location': \"Giovanni's\",\n",
    "                        'participant': 'ClueCon attendees'}\n",
    "pizza_party_post_response = requests.post(service_load_balancer,\n",
    "                         json=pizza_party_reminder, verify=False)\n",
    "pizza_party_reminder_id = pizza_party_post_response.json()['reminder_id']\n",
    "pprint(pizza_party_post_response.text)"
   ]
  },
  {
   "cell_type": "code",
   "execution_count": null,
   "metadata": {
    "collapsed": false
   },
   "outputs": [],
   "source": [
    "party_reminder_get_response = requests.get(\n",
    "    (service_load_balancer + '/{}'.format(pizza_party_reminder_id)),\n",
    "    verify=False)\n",
    "pprint(party_reminder_get_response.json())"
   ]
  },
  {
   "cell_type": "code",
   "execution_count": null,
   "metadata": {
    "collapsed": true
   },
   "outputs": [],
   "source": []
  }
 ],
 "metadata": {
  "kernelspec": {
   "display_name": "Python 2",
   "language": "python",
   "name": "python2"
  },
  "language_info": {
   "codemirror_mode": {
    "name": "ipython",
    "version": 2
   },
   "file_extension": ".py",
   "mimetype": "text/x-python",
   "name": "python",
   "nbconvert_exporter": "python",
   "pygments_lexer": "ipython2",
   "version": "2.7.10"
  }
 },
 "nbformat": 4,
 "nbformat_minor": 0
}
