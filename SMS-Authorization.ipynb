{
 "cells": [
  {
   "cell_type": "code",
   "execution_count": 1,
   "metadata": {
    "collapsed": true
   },
   "outputs": [],
   "source": [
    "import uuid\n",
    "import json\n",
    "\n",
    "import requests\n",
    "\n",
    "from requests.packages.urllib3.exceptions import InsecureRequestWarning\n",
    "requests.packages.urllib3.disable_warnings(InsecureRequestWarning)"
   ]
  },
  {
   "cell_type": "code",
   "execution_count": 2,
   "metadata": {
    "collapsed": false
   },
   "outputs": [],
   "source": [
    "service_load_balancer = 'http://localhost:8000'\n",
    "session_id = uuid.uuid4().hex\n",
    "user_phone_number = 'my_did'\n",
    "request_content = {'auth_id': session_id, 'recipient': user_phone_number}"
   ]
  },
  {
   "cell_type": "code",
   "execution_count": 3,
   "metadata": {
    "collapsed": false
   },
   "outputs": [
    {
     "name": "stdout",
     "output_type": "stream",
     "text": [
      "{\"message\": \"Success: Verification code created.\", \"auth_id\": \"ba3bf23aee5440089c4d58d9cd6f9793\"}\n"
     ]
    }
   ],
   "source": [
    "result = requests.post(service_load_balancer, json=request_content, verify=False)\n",
    "assert result.status_code == 200\n",
    "print(result.text)"
   ]
  },
  {
   "cell_type": "markdown",
   "metadata": {},
   "source": [
    "An equivalent curl request:\n",
    "~~~\n",
    "curl -v -X POST -d '{\"auth_id\": \"sha256\", \"recipient\": \"12069928996\"}' -H \"Content-Type: application/json\" -k https://sms-proxy-lb-1041651126.us-west-2.elb.amazonaws.com\n",
    "~~~"
   ]
  },
  {
   "cell_type": "markdown",
   "metadata": {},
   "source": [
    "Now lets make 4 bad attempts to see the behavior, and then we'll generate another code (currently the invalid attempts threshold is 3, and the expiration window is 1 hour)"
   ]
  },
  {
   "cell_type": "code",
   "execution_count": 4,
   "metadata": {
    "collapsed": false
   },
   "outputs": [
    {
     "name": "stdout",
     "output_type": "stream",
     "text": [
      "{\n",
      "  \"attempts_left\": 2, \n",
      "  \"message\": \"Invalid code\", \n",
      "  \"reason\": \"InvalidAuthCode\"\n",
      "}\n",
      "{\n",
      "  \"attempts_left\": 1, \n",
      "  \"message\": \"Invalid code\", \n",
      "  \"reason\": \"InvalidAuthCode\"\n",
      "}\n",
      "{\n",
      "  \"attempts_left\": 0, \n",
      "  \"message\": \"Invalid code\", \n",
      "  \"reason\": \"InvalidAuthCode\"\n",
      "}\n",
      "{\n",
      "  \"attempts_left\": 0, \n",
      "  \"message\": \"Unknown auth id\", \n",
      "  \"reason\": \"UnknownAuthId\"\n",
      "}\n"
     ]
    }
   ],
   "source": [
    "for invalid_code in ('1232', '9999', '0000000', '44444'):\n",
    "    authorization_args = {'auth_id': session_id, 'code': invalid_code}\n",
    "    response = requests.get(service_load_balancer, params=authorization_args, verify=False)\n",
    "    print(response.text)"
   ]
  },
  {
   "cell_type": "code",
   "execution_count": null,
   "metadata": {
    "collapsed": false
   },
   "outputs": [],
   "source": [
    "result = requests.post(service_load_balancer, json=request_content, verify=False)\n",
    "print(result.text)"
   ]
  },
  {
   "cell_type": "code",
   "execution_count": null,
   "metadata": {
    "collapsed": true
   },
   "outputs": [],
   "source": [
    "valid_code = '7293'  # Fill me in\n",
    "authorization_args = {'auth_id': session_id, 'code': valid_code}"
   ]
  },
  {
   "cell_type": "code",
   "execution_count": null,
   "metadata": {
    "collapsed": false
   },
   "outputs": [],
   "source": [
    "response = requests.get(service_load_balancer, params=authorization_args, verify=False)\n",
    "print(response.text)"
   ]
  },
  {
   "cell_type": "code",
   "execution_count": null,
   "metadata": {
    "collapsed": true
   },
   "outputs": [],
   "source": []
  }
 ],
 "metadata": {
  "kernelspec": {
   "display_name": "Python 2",
   "language": "python",
   "name": "python2"
  },
  "language_info": {
   "codemirror_mode": {
    "name": "ipython",
    "version": 2
   },
   "file_extension": ".py",
   "mimetype": "text/x-python",
   "name": "python",
   "nbconvert_exporter": "python",
   "pygments_lexer": "ipython2",
   "version": "2.7.10"
  }
 },
 "nbformat": 4,
 "nbformat_minor": 0
}
